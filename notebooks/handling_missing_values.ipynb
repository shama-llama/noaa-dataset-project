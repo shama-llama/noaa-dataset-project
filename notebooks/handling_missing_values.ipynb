{
 "cells": [
  {
   "cell_type": "markdown",
   "metadata": {},
   "source": [
    "# NOAA Dataset: Handling Missing Values"
   ]
  },
  {
   "cell_type": "markdown",
   "metadata": {},
   "source": [
    "## Setup and Data Loading"
   ]
  },
  {
   "cell_type": "code",
   "execution_count": 1,
   "id": "413267f6",
   "metadata": {},
   "outputs": [],
   "source": [
    "import pandas as pd"
   ]
  },
  {
   "cell_type": "code",
   "execution_count": 2,
   "metadata": {},
   "outputs": [],
   "source": [
    "files = ['../data/source/NOAA_46041.csv',\n",
    "         '../data/source/NOAA_46050.csv',\n",
    "         '../data/source/NOAA_46243.csv'\n",
    "]\n",
    "dataframes = [pd.read_csv(file) for file in files]\n",
    "df = pd.concat(dataframes, ignore_index=True)\n",
    "\n",
    "df['date_time'] = pd.to_datetime(df['date_time'])"
   ]
  },
  {
   "cell_type": "markdown",
   "id": "1743c57c",
   "metadata": {},
   "source": [
    "## 1. Standardize and Clean Columns"
   ]
  },
  {
   "cell_type": "code",
   "execution_count": 3,
   "id": "a9ed88cf",
   "metadata": {},
   "outputs": [
    {
     "name": "stdout",
     "output_type": "stream",
     "text": [
      "Cleaned Column Names:\n"
     ]
    },
    {
     "data": {
      "text/plain": [
       "['station_id',\n",
       " 'latitude_(degrees_north)',\n",
       " 'longitude_(degrees_east)',\n",
       " 'date_time',\n",
       " 'air_temperature_celsius',\n",
       " 'sea_level_pressure_hpa',\n",
       " 'wind_speed_mps',\n",
       " 'gust_speed_mps',\n",
       " 'significant_wave_height_m',\n",
       " 'dominant_wave_period_s',\n",
       " 'sea_surface_temperature_celsius',\n",
       " 'wind_speed_cwind_mps']"
      ]
     },
     "execution_count": 3,
     "metadata": {},
     "output_type": "execute_result"
    }
   ],
   "source": [
    "# Clean up column names\n",
    "df.columns = df.columns.str.strip()\n",
    "df.columns = df.columns.str.replace(r'\\s*\\(C°\\)', '_celsius', regex=True)\n",
    "df.columns = df.columns.str.replace(r'\\s*\\(m/s\\)', '_mps', regex=True)\n",
    "df.columns = df.columns.str.replace(r'\\s*\\(hPa\\)', '_hpa', regex=True)\n",
    "df.columns = df.columns.str.replace(r'\\s*\\(s\\)', '_s', regex=True)\n",
    "df.columns = df.columns.str.replace(r'\\s*\\(m\\)', '_m', regex=True)\n",
    "\n",
    "df.columns = df.columns.str.replace(r'\\s+', '_', regex=True)\n",
    "df.columns = df.columns.str.replace(r'_{2,}', '_', regex=True)\n",
    "df.columns = df.columns.str.lower()\n",
    "\n",
    "print(\"Cleaned Column Names:\")\n",
    "df.columns.to_list()"
   ]
  },
  {
   "cell_type": "markdown",
   "id": "9ccf1159",
   "metadata": {},
   "source": [
    "## 2. Merge Redundant Columns"
   ]
  },
  {
   "cell_type": "code",
   "execution_count": 4,
   "id": "263e3880",
   "metadata": {},
   "outputs": [
    {
     "name": "stdout",
     "output_type": "stream",
     "text": [
      "DataFrame info after merging wind speed columns:\n",
      "<class 'pandas.core.frame.DataFrame'>\n",
      "RangeIndex: 7219 entries, 0 to 7218\n",
      "Data columns (total 11 columns):\n",
      " #   Column                           Non-Null Count  Dtype              \n",
      "---  ------                           --------------  -----              \n",
      " 0   station_id                       7219 non-null   int64              \n",
      " 1   latitude_(degrees_north)         7219 non-null   float64            \n",
      " 2   longitude_(degrees_east)         7219 non-null   float64            \n",
      " 3   date_time                        7219 non-null   datetime64[ns, UTC]\n",
      " 4   air_temperature_celsius          723 non-null    float64            \n",
      " 5   sea_level_pressure_hpa           723 non-null    float64            \n",
      " 6   gust_speed_mps                   723 non-null    float64            \n",
      " 7   significant_wave_height_m        2167 non-null   float64            \n",
      " 8   dominant_wave_period_s           2167 non-null   float64            \n",
      " 9   sea_surface_temperature_celsius  2168 non-null   float64            \n",
      " 10  wind_speed                       5043 non-null   float64            \n",
      "dtypes: datetime64[ns, UTC](1), float64(9), int64(1)\n",
      "memory usage: 620.5 KB\n"
     ]
    }
   ],
   "source": [
    "# Use combine_first to create a single wind_speed column\n",
    "df['wind_speed'] = df['wind_speed_mps'].combine_first(\n",
    "    df['wind_speed_cwind_mps'])\n",
    "\n",
    "# Drop the original, redundant columns\n",
    "df.drop(columns=['wind_speed_mps', 'wind_speed_cwind_mps'], inplace=True)\n",
    "\n",
    "print(\"DataFrame info after merging wind speed columns:\")\n",
    "df.info()"
   ]
  },
  {
   "cell_type": "markdown",
   "metadata": {},
   "source": [
    "## 3. Quantify Missing Data"
   ]
  },
  {
   "cell_type": "code",
   "execution_count": 5,
   "metadata": {},
   "outputs": [
    {
     "name": "stdout",
     "output_type": "stream",
     "text": [
      "                                 Missing Values  Percentage\n",
      "station_id                                    0    0.000000\n",
      "latitude_(degrees_north)                      0    0.000000\n",
      "longitude_(degrees_east)                      0    0.000000\n",
      "date_time                                     0    0.000000\n",
      "air_temperature_celsius                    6496   89.984762\n",
      "sea_level_pressure_hpa                     6496   89.984762\n",
      "gust_speed_mps                             6496   89.984762\n",
      "significant_wave_height_m                  5052   69.981992\n",
      "dominant_wave_period_s                     5052   69.981992\n",
      "sea_surface_temperature_celsius            5051   69.968140\n",
      "wind_speed                                 2176   30.142679\n"
     ]
    }
   ],
   "source": [
    "missing_data = df.isnull().sum()\n",
    "missing_percentage = (missing_data / len(df)) * 100\n",
    "missing_info = pd.DataFrame(\n",
    "    {'Missing Values': missing_data, 'Percentage': missing_percentage})\n",
    "print(missing_info)"
   ]
  },
  {
   "cell_type": "markdown",
   "metadata": {},
   "source": [
    "## 4. Imputation Strategy\n",
    "\n",
    " Since the `NaN` values are systematic, a single, broad imputation won't be performed. Instead, three separate dataframes will be made based on the station capabilities discovered in the EDA. This respects the \"data silos\" and only the data that is physically valid for a given task will be used.\n",
    "\n",
    "- `df_complete_station`: For modeling tasks that require all variables (e.g., predicting waves from wind and pressure). This will only contain data from Station 2868187.\n",
    "\n",
    "- `df_wind_analysis`: For analyzing regional wind patterns. This will contain data from the two stations that measure wind (2868187 and 2868934).\n",
    "\n",
    "- `df_wave_analysis`: For analyzing regional wave patterns. This will contain data from the two stations that measure waves (2868187 and 2888997)."
   ]
  },
  {
   "cell_type": "code",
   "execution_count": 6,
   "id": "5c215560",
   "metadata": {},
   "outputs": [
    {
     "name": "stdout",
     "output_type": "stream",
     "text": [
      "--- Complete Station DataFrame ---\n",
      "<class 'pandas.core.frame.DataFrame'>\n",
      "Index: 723 entries, 0 to 722\n",
      "Data columns (total 11 columns):\n",
      " #   Column                           Non-Null Count  Dtype              \n",
      "---  ------                           --------------  -----              \n",
      " 0   station_id                       723 non-null    int64              \n",
      " 1   latitude_(degrees_north)         723 non-null    float64            \n",
      " 2   longitude_(degrees_east)         723 non-null    float64            \n",
      " 3   date_time                        723 non-null    datetime64[ns, UTC]\n",
      " 4   air_temperature_celsius          723 non-null    float64            \n",
      " 5   sea_level_pressure_hpa           723 non-null    float64            \n",
      " 6   gust_speed_mps                   723 non-null    float64            \n",
      " 7   significant_wave_height_m        722 non-null    float64            \n",
      " 8   dominant_wave_period_s           722 non-null    float64            \n",
      " 9   sea_surface_temperature_celsius  723 non-null    float64            \n",
      " 10  wind_speed                       723 non-null    float64            \n",
      "dtypes: datetime64[ns, UTC](1), float64(9), int64(1)\n",
      "memory usage: 67.8 KB\n",
      "\n",
      "--- Wind Analysis DataFrame ---\n",
      "<class 'pandas.core.frame.DataFrame'>\n",
      "Index: 5774 entries, 0 to 5773\n",
      "Data columns (total 11 columns):\n",
      " #   Column                           Non-Null Count  Dtype              \n",
      "---  ------                           --------------  -----              \n",
      " 0   station_id                       5774 non-null   int64              \n",
      " 1   latitude_(degrees_north)         5774 non-null   float64            \n",
      " 2   longitude_(degrees_east)         5774 non-null   float64            \n",
      " 3   date_time                        5774 non-null   datetime64[ns, UTC]\n",
      " 4   air_temperature_celsius          723 non-null    float64            \n",
      " 5   sea_level_pressure_hpa           723 non-null    float64            \n",
      " 6   gust_speed_mps                   723 non-null    float64            \n",
      " 7   significant_wave_height_m        722 non-null    float64            \n",
      " 8   dominant_wave_period_s           722 non-null    float64            \n",
      " 9   sea_surface_temperature_celsius  723 non-null    float64            \n",
      " 10  wind_speed                       5043 non-null   float64            \n",
      "dtypes: datetime64[ns, UTC](1), float64(9), int64(1)\n",
      "memory usage: 541.3 KB\n",
      "\n",
      "--- Wave Analysis DataFrame ---\n",
      "<class 'pandas.core.frame.DataFrame'>\n",
      "Index: 2168 entries, 0 to 7218\n",
      "Data columns (total 11 columns):\n",
      " #   Column                           Non-Null Count  Dtype              \n",
      "---  ------                           --------------  -----              \n",
      " 0   station_id                       2168 non-null   int64              \n",
      " 1   latitude_(degrees_north)         2168 non-null   float64            \n",
      " 2   longitude_(degrees_east)         2168 non-null   float64            \n",
      " 3   date_time                        2168 non-null   datetime64[ns, UTC]\n",
      " 4   air_temperature_celsius          723 non-null    float64            \n",
      " 5   sea_level_pressure_hpa           723 non-null    float64            \n",
      " 6   gust_speed_mps                   723 non-null    float64            \n",
      " 7   significant_wave_height_m        2167 non-null   float64            \n",
      " 8   dominant_wave_period_s           2167 non-null   float64            \n",
      " 9   sea_surface_temperature_celsius  2168 non-null   float64            \n",
      " 10  wind_speed                       723 non-null    float64            \n",
      "dtypes: datetime64[ns, UTC](1), float64(9), int64(1)\n",
      "memory usage: 203.2 KB\n"
     ]
    }
   ],
   "source": [
    "# DataFrame for the one station with complete data\n",
    "df_complete_station = df[df['station_id'] == 2868187].copy()\n",
    "\n",
    "# DataFrame for all stations that have wind data\n",
    "wind_station_ids = [2868187, 2868934]\n",
    "df_wind_analysis = df[df['station_id'].isin(wind_station_ids)].copy()\n",
    "\n",
    "# DataFrame for all stations that have wave data\n",
    "wave_station_ids = [2868187, 2888997]\n",
    "df_wave_analysis = df[df['station_id'].isin(wave_station_ids)].copy()\n",
    "\n",
    "\n",
    "print(\"--- Complete Station DataFrame ---\")\n",
    "df_complete_station.info()\n",
    "\n",
    "print(\"\\n--- Wind Analysis DataFrame ---\")\n",
    "df_wind_analysis.info()\n",
    "\n",
    "print(\"\\n--- Wave Analysis DataFrame ---\")\n",
    "df_wave_analysis.info()"
   ]
  },
  {
   "cell_type": "markdown",
   "id": "7f8e90db",
   "metadata": {},
   "source": [
    "## 5. Handle Incidental Missing Data with Time-Series Interpolation"
   ]
  },
  {
   "cell_type": "code",
   "execution_count": 7,
   "id": "777ca70a",
   "metadata": {},
   "outputs": [
    {
     "name": "stdout",
     "output_type": "stream",
     "text": [
      "Missing values BEFORE interpolation:\n",
      "station_id                         0\n",
      "latitude_(degrees_north)           0\n",
      "longitude_(degrees_east)           0\n",
      "air_temperature_celsius            0\n",
      "sea_level_pressure_hpa             0\n",
      "gust_speed_mps                     0\n",
      "significant_wave_height_m          1\n",
      "dominant_wave_period_s             1\n",
      "sea_surface_temperature_celsius    0\n",
      "wind_speed                         0\n",
      "dtype: int64\n",
      "\n",
      "Missing values AFTER interpolation:\n",
      "station_id                         0\n",
      "latitude_(degrees_north)           0\n",
      "longitude_(degrees_east)           0\n",
      "air_temperature_celsius            0\n",
      "sea_level_pressure_hpa             0\n",
      "gust_speed_mps                     0\n",
      "significant_wave_height_m          0\n",
      "dominant_wave_period_s             0\n",
      "sea_surface_temperature_celsius    0\n",
      "wind_speed                         0\n",
      "dtype: int64\n"
     ]
    }
   ],
   "source": [
    "# This cell fills small, random gaps within a single station's data using\n",
    "# time-based linear interpolation, a better approach to mean-filling\n",
    "# for time-series data.\n",
    "\n",
    "# Set date_time as the index to enable time-based interpolation\n",
    "df_complete_station.set_index('date_time', inplace=True)\n",
    "\n",
    "# Sort the index to ensure chronological order, which is required for interpolation\n",
    "df_complete_station.sort_index(inplace=True)\n",
    "\n",
    "print(\"Missing values BEFORE interpolation:\")\n",
    "print(df_complete_station.isnull().sum())\n",
    "\n",
    "# Apply time-based interpolation\n",
    "df_complete_station.interpolate(method='time', inplace=True)\n",
    "\n",
    "print(\"\\nMissing values AFTER interpolation:\")\n",
    "print(df_complete_station.isnull().sum())"
   ]
  },
  {
   "cell_type": "code",
   "execution_count": 8,
   "id": "423375a6",
   "metadata": {},
   "outputs": [
    {
     "name": "stdout",
     "output_type": "stream",
     "text": [
      "Missing values BEFORE interpolation:\n",
      "station_id                            0\n",
      "latitude_(degrees_north)              0\n",
      "longitude_(degrees_east)              0\n",
      "air_temperature_celsius            1445\n",
      "sea_level_pressure_hpa             1445\n",
      "gust_speed_mps                     1445\n",
      "significant_wave_height_m             1\n",
      "dominant_wave_period_s                1\n",
      "sea_surface_temperature_celsius       0\n",
      "wind_speed                         1445\n",
      "dtype: int64\n",
      "\n",
      "Missing values AFTER interpolation:\n",
      "station_id                         0\n",
      "latitude_(degrees_north)           0\n",
      "longitude_(degrees_east)           0\n",
      "air_temperature_celsius            2\n",
      "sea_level_pressure_hpa             2\n",
      "gust_speed_mps                     2\n",
      "significant_wave_height_m          0\n",
      "dominant_wave_period_s             0\n",
      "sea_surface_temperature_celsius    0\n",
      "wind_speed                         2\n",
      "dtype: int64\n"
     ]
    }
   ],
   "source": [
    "# This cell fills small, random gaps within a single station's data using\n",
    "# time-based linear interpolation, a better approach to mean-filling\n",
    "# for time-series data.\n",
    "\n",
    "# Set date_time as the index to enable time-based interpolation\n",
    "df_wave_analysis.set_index('date_time', inplace=True)\n",
    "\n",
    "# Sort the index to ensure chronological order, which is required for interpolation\n",
    "df_wave_analysis.sort_index(inplace=True)\n",
    "\n",
    "print(\"Missing values BEFORE interpolation:\")\n",
    "print(df_wave_analysis.isnull().sum())\n",
    "\n",
    "# Apply time-based interpolation\n",
    "df_wave_analysis.interpolate(method='time', inplace=True)\n",
    "\n",
    "print(\"\\nMissing values AFTER interpolation:\")\n",
    "print(df_wave_analysis.isnull().sum())"
   ]
  },
  {
   "cell_type": "code",
   "execution_count": 9,
   "id": "4483a6b6",
   "metadata": {},
   "outputs": [
    {
     "name": "stdout",
     "output_type": "stream",
     "text": [
      "Shape before dropping final NaNs: (2168, 10)\n",
      "Shape after dropping final NaNs:  (2166, 10)\n"
     ]
    }
   ],
   "source": [
    "print(f\"Shape before dropping final NaNs: {df_wave_analysis.shape}\")\n",
    "df_wave_analysis.dropna(inplace=True)\n",
    "print(f\"Shape after dropping final NaNs:  {df_wave_analysis.shape}\")"
   ]
  },
  {
   "cell_type": "code",
   "execution_count": 10,
   "id": "e0747438",
   "metadata": {},
   "outputs": [
    {
     "name": "stdout",
     "output_type": "stream",
     "text": [
      "Missing values BEFORE interpolation:\n",
      "station_id                            0\n",
      "latitude_(degrees_north)              0\n",
      "longitude_(degrees_east)              0\n",
      "air_temperature_celsius            5051\n",
      "sea_level_pressure_hpa             5051\n",
      "gust_speed_mps                     5051\n",
      "significant_wave_height_m          5052\n",
      "dominant_wave_period_s             5052\n",
      "sea_surface_temperature_celsius    5051\n",
      "wind_speed                          731\n",
      "dtype: int64\n",
      "\n",
      "Missing values AFTER interpolation:\n",
      "station_id                         0\n",
      "latitude_(degrees_north)           0\n",
      "longitude_(degrees_east)           0\n",
      "air_temperature_celsius            7\n",
      "sea_level_pressure_hpa             7\n",
      "gust_speed_mps                     7\n",
      "significant_wave_height_m          7\n",
      "dominant_wave_period_s             7\n",
      "sea_surface_temperature_celsius    7\n",
      "wind_speed                         0\n",
      "dtype: int64\n"
     ]
    }
   ],
   "source": [
    "# This cell fills small, random gaps within a single station's data using\n",
    "# time-based linear interpolation, a better approach to mean-filling\n",
    "# for time-series data.\n",
    "\n",
    "# Set date_time as the index to enable time-based interpolation\n",
    "df_wind_analysis.set_index('date_time', inplace=True)\n",
    "\n",
    "# Sort the index to ensure chronological order, which is required for interpolation\n",
    "df_wind_analysis.sort_index(inplace=True)\n",
    "\n",
    "print(\"Missing values BEFORE interpolation:\")\n",
    "print(df_wind_analysis.isnull().sum())\n",
    "\n",
    "# Apply time-based interpolation\n",
    "df_wind_analysis.interpolate(method='time', inplace=True)\n",
    "\n",
    "print(\"\\nMissing values AFTER interpolation:\")\n",
    "print(df_wind_analysis.isnull().sum())"
   ]
  },
  {
   "cell_type": "code",
   "execution_count": 11,
   "id": "52d9d75f",
   "metadata": {},
   "outputs": [
    {
     "name": "stdout",
     "output_type": "stream",
     "text": [
      "Shape before dropping final NaNs: (5774, 10)\n",
      "Shape after dropping final NaNs:  (5767, 10)\n"
     ]
    }
   ],
   "source": [
    "print(f\"Shape before dropping final NaNs: {df_wind_analysis.shape}\")\n",
    "df_wind_analysis.dropna(inplace=True)\n",
    "print(f\"Shape after dropping final NaNs:  {df_wind_analysis.shape}\")"
   ]
  },
  {
   "cell_type": "markdown",
   "metadata": {},
   "source": [
    "## 6. Save Cleaned Data"
   ]
  },
  {
   "cell_type": "code",
   "execution_count": 12,
   "metadata": {},
   "outputs": [
    {
     "name": "stdout",
     "output_type": "stream",
     "text": [
      "--- Complete Station CSV ---\n",
      "<class 'pandas.core.frame.DataFrame'>\n",
      "DatetimeIndex: 723 entries, 2013-04-18 00:50:00+00:00 to 2013-05-18 10:50:00+00:00\n",
      "Data columns (total 10 columns):\n",
      " #   Column                           Non-Null Count  Dtype  \n",
      "---  ------                           --------------  -----  \n",
      " 0   station_id                       723 non-null    int64  \n",
      " 1   latitude_(degrees_north)         723 non-null    float64\n",
      " 2   longitude_(degrees_east)         723 non-null    float64\n",
      " 3   air_temperature_celsius          723 non-null    float64\n",
      " 4   sea_level_pressure_hpa           723 non-null    float64\n",
      " 5   gust_speed_mps                   723 non-null    float64\n",
      " 6   significant_wave_height_m        723 non-null    float64\n",
      " 7   dominant_wave_period_s           723 non-null    float64\n",
      " 8   sea_surface_temperature_celsius  723 non-null    float64\n",
      " 9   wind_speed                       723 non-null    float64\n",
      "dtypes: float64(9), int64(1)\n",
      "memory usage: 62.1 KB\n",
      "\n",
      "--- Wind Analysis CSV ---\n",
      "<class 'pandas.core.frame.DataFrame'>\n",
      "DatetimeIndex: 5767 entries, 2013-04-18 00:50:00+00:00 to 2013-05-18 10:50:00+00:00\n",
      "Data columns (total 10 columns):\n",
      " #   Column                           Non-Null Count  Dtype  \n",
      "---  ------                           --------------  -----  \n",
      " 0   station_id                       5767 non-null   int64  \n",
      " 1   latitude_(degrees_north)         5767 non-null   float64\n",
      " 2   longitude_(degrees_east)         5767 non-null   float64\n",
      " 3   air_temperature_celsius          5767 non-null   float64\n",
      " 4   sea_level_pressure_hpa           5767 non-null   float64\n",
      " 5   gust_speed_mps                   5767 non-null   float64\n",
      " 6   significant_wave_height_m        5767 non-null   float64\n",
      " 7   dominant_wave_period_s           5767 non-null   float64\n",
      " 8   sea_surface_temperature_celsius  5767 non-null   float64\n",
      " 9   wind_speed                       5767 non-null   float64\n",
      "dtypes: float64(9), int64(1)\n",
      "memory usage: 495.6 KB\n",
      "\n",
      "--- Wave Analysis CSV ---\n",
      "<class 'pandas.core.frame.DataFrame'>\n",
      "DatetimeIndex: 2166 entries, 2013-04-18 00:50:00+00:00 to 2013-05-18 10:50:00+00:00\n",
      "Data columns (total 10 columns):\n",
      " #   Column                           Non-Null Count  Dtype  \n",
      "---  ------                           --------------  -----  \n",
      " 0   station_id                       2166 non-null   int64  \n",
      " 1   latitude_(degrees_north)         2166 non-null   float64\n",
      " 2   longitude_(degrees_east)         2166 non-null   float64\n",
      " 3   air_temperature_celsius          2166 non-null   float64\n",
      " 4   sea_level_pressure_hpa           2166 non-null   float64\n",
      " 5   gust_speed_mps                   2166 non-null   float64\n",
      " 6   significant_wave_height_m        2166 non-null   float64\n",
      " 7   dominant_wave_period_s           2166 non-null   float64\n",
      " 8   sea_surface_temperature_celsius  2166 non-null   float64\n",
      " 9   wind_speed                       2166 non-null   float64\n",
      "dtypes: float64(9), int64(1)\n",
      "memory usage: 186.1 KB\n"
     ]
    }
   ],
   "source": [
    "df_complete_station.to_csv('../data/clean/NOAA_complete_station.csv', index=True)\n",
    "df_wind_analysis.to_csv('../data/clean/NOAA_wind_analysis.csv', index=True)\n",
    "df_wave_analysis.to_csv('../data/clean/NOAA_wave_analysis.csv', index=True)\n",
    "\n",
    "print(\"--- Complete Station CSV ---\")\n",
    "df_complete_station.info()\n",
    "\n",
    "print(\"\\n--- Wind Analysis CSV ---\")\n",
    "df_wind_analysis.info()\n",
    "\n",
    "print(\"\\n--- Wave Analysis CSV ---\")\n",
    "df_wave_analysis.info()"
   ]
  }
 ],
 "metadata": {
  "kernelspec": {
   "display_name": "noaa-dataset-project",
   "language": "python",
   "name": "python3"
  },
  "language_info": {
   "codemirror_mode": {
    "name": "ipython",
    "version": 3
   },
   "file_extension": ".py",
   "mimetype": "text/x-python",
   "name": "python",
   "nbconvert_exporter": "python",
   "pygments_lexer": "ipython3",
   "version": "3.12.11"
  }
 },
 "nbformat": 4,
 "nbformat_minor": 5
}
