{
 "cells": [
  {
   "cell_type": "markdown",
   "metadata": {},
   "source": [
    "# NOAA Dataset: Handling Missing Values"
   ]
  },
  {
   "cell_type": "markdown",
   "metadata": {},
   "source": [
    "This notebook details the process for cleaning and preparing the NOAA dataset, with a focus on addressing missing values. The raw dataset contains data from three oceanic buoys, each with different sensor capabilities, leading to two distinct types of missing data: systematic and incidental.\n",
    "\n",
    "**Systematic missingness** occurs when a station lacks the hardware to measure a certain variable. In our case, there is a buoy that never reports wind speed which implies it doesn't have an anemometer. **Incidental missingness** refers to small, random gaps in data from a sensor that is otherwise operational, often due to transient sensor malfunctions or transmission errors.\n",
    "\n",
    "The strategy used here is to first handle the systematic gaps by partitioning the data into analysis-specific subsets. Then, incidental gaps within these subsets are addressed using time-series interpolation. This preserves data integrity by not attempting to impute values that were never physically measurable."
   ]
  },
  {
   "cell_type": "markdown",
   "metadata": {},
   "source": [
    "## Setup and Data Loading"
   ]
  },
  {
   "cell_type": "code",
   "execution_count": 1,
   "metadata": {},
   "outputs": [],
   "source": [
    "import io\n",
    "import pandas as pd\n",
    "from IPython.display import display, HTML"
   ]
  },
  {
   "cell_type": "code",
   "execution_count": 2,
   "metadata": {},
   "outputs": [],
   "source": [
    "files = ['../data/source/NOAA_46041.csv',\n",
    "         '../data/source/NOAA_46050.csv',\n",
    "         '../data/source/NOAA_46243.csv'\n",
    "]\n",
    "\n",
    "dataframes = [pd.read_csv(file) for file in files]\n",
    "df = pd.concat(dataframes, ignore_index=True)\n",
    "df['date_time'] = pd.to_datetime(df['date_time'])"
   ]
  },
  {
   "cell_type": "markdown",
   "metadata": {},
   "source": [
    "## 1. Standardize and Clean Columns"
   ]
  },
  {
   "cell_type": "markdown",
   "metadata": {},
   "source": [
    "Column names are programmatically standardized for consistency and ease of access. This involves removing leading/trailing whitespace, replacing units and special characters with descriptive suffixes, replacing spaces with underscores, and converting all names to lowercase. A standardized naming convention is best practice to prevent errors, improve code readability, and make data manipulation more predictable."
   ]
  },
  {
   "cell_type": "code",
   "execution_count": 3,
   "metadata": {},
   "outputs": [
    {
     "data": {
      "text/html": [
       "<pre style='font-family: monospace; border-style: solid; border-width: thin; padding:10px;'>station_id\n",
       "latitude_degrees_north\n",
       "longitude_degrees_east\n",
       "date_time\n",
       "air_temperature_celsius\n",
       "sea_level_pressure_hpa\n",
       "wind_speed_mps\n",
       "gust_speed_mps\n",
       "significant_wave_height_m\n",
       "dominant_wave_period_s\n",
       "sea_surface_temperature_celsius\n",
       "wind_speed_cwind_mps</pre>"
      ],
      "text/plain": [
       "<IPython.core.display.HTML object>"
      ]
     },
     "metadata": {},
     "output_type": "display_data"
    }
   ],
   "source": [
    "# Clean up column names\n",
    "df.columns = df.columns.str.strip()\n",
    "df.columns = df.columns.str.replace(r'\\s*\\(degrees north\\)', '_degrees_north', regex=True)\n",
    "df.columns = df.columns.str.replace(r'\\s*\\(degrees east\\)', '_degrees_east', regex=True)\n",
    "df.columns = df.columns.str.replace(r'\\s*\\(C°\\)', '_celsius', regex=True)\n",
    "df.columns = df.columns.str.replace(r'\\s*\\(m/s\\)', '_mps', regex=True)\n",
    "df.columns = df.columns.str.replace(r'\\s*\\(hPa\\)', '_hpa', regex=True)\n",
    "df.columns = df.columns.str.replace(r'\\s*\\(s\\)', '_s', regex=True)\n",
    "df.columns = df.columns.str.replace(r'\\s*\\(m\\)', '_m', regex=True)\n",
    "\n",
    "df.columns = df.columns.str.replace(r'\\s+', '_', regex=True)\n",
    "df.columns = df.columns.str.replace(r'_{2,}', '_', regex=True)\n",
    "df.columns = df.columns.str.lower()\n",
    "\n",
    "columns_str = \"\\n\".join(df.columns)\n",
    "\n",
    "html = f\"<pre style='font-family: monospace; border-style: solid; border-width: thin; padding:10px;'>{columns_str}</pre>\"\n",
    "display(HTML(html))"
   ]
  },
  {
   "cell_type": "markdown",
   "metadata": {},
   "source": [
    "## 2. Merge Redundant Columns"
   ]
  },
  {
   "cell_type": "markdown",
   "metadata": {},
   "source": [
    "During exploratory data analysis, it was discovered that two columns, `wind_speed_mps` and `wind_speed_cwind_mps`, measure the same physical quantity but are populated for different sets of records. To create a single, authoritative source for wind speed, these columns are merged. The `combine_first` method is used to coalesce the two columns, filling NaN values in the first column with the corresponding values from the second. The original, now-redundant columns are then dropped to simplify the DataFrame."
   ]
  },
  {
   "cell_type": "code",
   "execution_count": 4,
   "metadata": {},
   "outputs": [
    {
     "data": {
      "text/html": [
       "<pre style='font-family: monospace; border-style: solid; border-width: thin; padding:10px;'><class 'pandas.core.frame.DataFrame'>\n",
       "RangeIndex: 7219 entries, 0 to 7218\n",
       "Data columns (total 11 columns):\n",
       " #   Column                           Non-Null Count  Dtype              \n",
       "---  ------                           --------------  -----              \n",
       " 0   station_id                       7219 non-null   int64              \n",
       " 1   latitude_degrees_north           7219 non-null   float64            \n",
       " 2   longitude_degrees_east           7219 non-null   float64            \n",
       " 3   date_time                        7219 non-null   datetime64[ns, UTC]\n",
       " 4   air_temperature_celsius          723 non-null    float64            \n",
       " 5   sea_level_pressure_hpa           723 non-null    float64            \n",
       " 6   gust_speed_mps                   723 non-null    float64            \n",
       " 7   significant_wave_height_m        2167 non-null   float64            \n",
       " 8   dominant_wave_period_s           2167 non-null   float64            \n",
       " 9   sea_surface_temperature_celsius  2168 non-null   float64            \n",
       " 10  wind_speed                       5043 non-null   float64            \n",
       "dtypes: datetime64[ns, UTC](1), float64(9), int64(1)\n",
       "memory usage: 620.5 KB\n",
       "</pre>"
      ],
      "text/plain": [
       "<IPython.core.display.HTML object>"
      ]
     },
     "metadata": {},
     "output_type": "display_data"
    }
   ],
   "source": [
    "df['wind_speed'] = df['wind_speed_mps'].combine_first(\n",
    "    df['wind_speed_cwind_mps'])\n",
    "\n",
    "df.drop(columns=['wind_speed_mps', 'wind_speed_cwind_mps'], inplace=True)\n",
    "\n",
    "buffer = io.StringIO()\n",
    "df.info(buf=buffer)\n",
    "info = buffer.getvalue()\n",
    "\n",
    "html = f\"<pre style='font-family: monospace; border-style: solid; border-width: thin; padding:10px;'>{info}</pre>\"\n",
    "display(HTML(html))"
   ]
  },
  {
   "cell_type": "markdown",
   "metadata": {},
   "source": [
    "## 3. Quantify Missing Data"
   ]
  },
  {
   "cell_type": "markdown",
   "metadata": {},
   "source": [
    "A quantitative analysis of missing data is performed to guide the imputation strategy. The percentage of missing values for each variable is calculated. The results clearly show that variables like `air_temperature_celsius` and `sea_level_pressure_hpa` are missing in over 65% of records. It's a direct result of specific stations lacking the necessary sensors. This confirms the presence of systematic missingness and invalidates the use of simple, global imputation methods, which would introduce significant bias."
   ]
  },
  {
   "cell_type": "code",
   "execution_count": 5,
   "metadata": {},
   "outputs": [
    {
     "data": {
      "text/html": [
       "<pre style='font-family: monospace; border-style: solid; border-width: thin; padding:10px;'>                                 Missing Values  Percentage\n",
       "station_id                                    0    0.000000\n",
       "latitude_degrees_north                        0    0.000000\n",
       "longitude_degrees_east                        0    0.000000\n",
       "date_time                                     0    0.000000\n",
       "air_temperature_celsius                    6496   89.984762\n",
       "sea_level_pressure_hpa                     6496   89.984762\n",
       "gust_speed_mps                             6496   89.984762\n",
       "significant_wave_height_m                  5052   69.981992\n",
       "dominant_wave_period_s                     5052   69.981992\n",
       "sea_surface_temperature_celsius            5051   69.968140\n",
       "wind_speed                                 2176   30.142679</pre>"
      ],
      "text/plain": [
       "<IPython.core.display.HTML object>"
      ]
     },
     "metadata": {},
     "output_type": "display_data"
    }
   ],
   "source": [
    "missing_data = df.isnull().sum()\n",
    "missing_percentage = (missing_data / len(df)) * 100\n",
    "missing_info = pd.DataFrame({'Missing Values': missing_data, 'Percentage': missing_percentage})\n",
    "\n",
    "html = f\"<pre style='font-family: monospace; border-style: solid; border-width: thin; padding:10px;'>{missing_info}</pre>\"\n",
    "display(HTML(html))"
   ]
  },
  {
   "cell_type": "markdown",
   "metadata": {},
   "source": [
    "## 4. Imputation Strategy"
   ]
  },
  {
   "cell_type": "markdown",
   "metadata": {},
   "source": [
    "Since the `NaN` values are systematic, a single, broad imputation won't be performed. Instead, three separate dataframes will be made based on the station capabilities discovered in the EDA. This respects the \"data silos\" and only the data that is physically valid for a given task will be used.\n",
    "\n",
    "- `df_complete_station`: For modeling tasks that require all variables (e.g., predicting waves from wind and pressure). This will only contain data from Station 2868187.\n",
    "\n",
    "- `df_wind_analysis`: For analyzing regional wind patterns. This will contain data from the two stations that measure wind (2868187 and 2868934).\n",
    "\n",
    "- `df_wave_analysis`: For analyzing regional wave patterns. This will contain data from the two stations that measure waves (2868187 and 2888997)."
   ]
  },
  {
   "cell_type": "code",
   "execution_count": 6,
   "metadata": {},
   "outputs": [
    {
     "data": {
      "text/html": [
       "\n",
       "<div style=\"display: flex; width: 100%;\">\n",
       "  <div style=\"flex: 1; padding-right: 10px;\">\n",
       "    <h4 style=\"font-family: monospace;\">Complete Station Info:</h4>\n",
       "    <pre style='font-family: monospace; border-style: solid; border-width: thin; padding:10px;'><class 'pandas.core.frame.DataFrame'>\n",
       "Index: 723 entries, 0 to 722\n",
       "Data columns (total 11 columns):\n",
       " #   Column                           Non-Null Count  Dtype              \n",
       "---  ------                           --------------  -----              \n",
       " 0   station_id                       723 non-null    int64              \n",
       " 1   latitude_degrees_north           723 non-null    float64            \n",
       " 2   longitude_degrees_east           723 non-null    float64            \n",
       " 3   date_time                        723 non-null    datetime64[ns, UTC]\n",
       " 4   air_temperature_celsius          723 non-null    float64            \n",
       " 5   sea_level_pressure_hpa           723 non-null    float64            \n",
       " 6   gust_speed_mps                   723 non-null    float64            \n",
       " 7   significant_wave_height_m        722 non-null    float64            \n",
       " 8   dominant_wave_period_s           722 non-null    float64            \n",
       " 9   sea_surface_temperature_celsius  723 non-null    float64            \n",
       " 10  wind_speed                       723 non-null    float64            \n",
       "dtypes: datetime64[ns, UTC](1), float64(9), int64(1)\n",
       "memory usage: 67.8 KB\n",
       "</pre>\n",
       "  </div>\n",
       "  <div style=\"flex: 1; padding-left: 5px; padding-right: 5px;\">\n",
       "    <h4 style=\"font-family: monospace;\">Wind Analysis Info:</h4>\n",
       "    <pre style='font-family: monospace; border-style: solid; border-width: thin; padding:10px;'><class 'pandas.core.frame.DataFrame'>\n",
       "Index: 5774 entries, 0 to 5773\n",
       "Data columns (total 11 columns):\n",
       " #   Column                           Non-Null Count  Dtype              \n",
       "---  ------                           --------------  -----              \n",
       " 0   station_id                       5774 non-null   int64              \n",
       " 1   latitude_degrees_north           5774 non-null   float64            \n",
       " 2   longitude_degrees_east           5774 non-null   float64            \n",
       " 3   date_time                        5774 non-null   datetime64[ns, UTC]\n",
       " 4   air_temperature_celsius          723 non-null    float64            \n",
       " 5   sea_level_pressure_hpa           723 non-null    float64            \n",
       " 6   gust_speed_mps                   723 non-null    float64            \n",
       " 7   significant_wave_height_m        722 non-null    float64            \n",
       " 8   dominant_wave_period_s           722 non-null    float64            \n",
       " 9   sea_surface_temperature_celsius  723 non-null    float64            \n",
       " 10  wind_speed                       5043 non-null   float64            \n",
       "dtypes: datetime64[ns, UTC](1), float64(9), int64(1)\n",
       "memory usage: 541.3 KB\n",
       "</pre>\n",
       "  </div>\n",
       "  <div style=\"flex: 1; padding-left: 10px;\">\n",
       "    <h4 style=\"font-family: monospace;\">Wave Analysis Info:</h4>\n",
       "    <pre style='font-family: monospace; border-style: solid; border-width: thin; padding:10px;'><class 'pandas.core.frame.DataFrame'>\n",
       "Index: 2168 entries, 0 to 7218\n",
       "Data columns (total 11 columns):\n",
       " #   Column                           Non-Null Count  Dtype              \n",
       "---  ------                           --------------  -----              \n",
       " 0   station_id                       2168 non-null   int64              \n",
       " 1   latitude_degrees_north           2168 non-null   float64            \n",
       " 2   longitude_degrees_east           2168 non-null   float64            \n",
       " 3   date_time                        2168 non-null   datetime64[ns, UTC]\n",
       " 4   air_temperature_celsius          723 non-null    float64            \n",
       " 5   sea_level_pressure_hpa           723 non-null    float64            \n",
       " 6   gust_speed_mps                   723 non-null    float64            \n",
       " 7   significant_wave_height_m        2167 non-null   float64            \n",
       " 8   dominant_wave_period_s           2167 non-null   float64            \n",
       " 9   sea_surface_temperature_celsius  2168 non-null   float64            \n",
       " 10  wind_speed                       723 non-null    float64            \n",
       "dtypes: datetime64[ns, UTC](1), float64(9), int64(1)\n",
       "memory usage: 203.2 KB\n",
       "</pre>\n",
       "  </div>\n",
       "</div>\n"
      ],
      "text/plain": [
       "<IPython.core.display.HTML object>"
      ]
     },
     "metadata": {},
     "output_type": "display_data"
    }
   ],
   "source": [
    "# DataFrame for the one station with complete data\n",
    "df_complete_station = df[df['station_id'] == 2868187].copy()\n",
    "\n",
    "# DataFrame for all stations that have wind data\n",
    "wind_station_ids = [2868187, 2868934]\n",
    "df_wind_analysis = df[df['station_id'].isin(wind_station_ids)].copy()\n",
    "\n",
    "# DataFrame for all stations that have wave data\n",
    "wave_station_ids = [2868187, 2888997]\n",
    "df_wave_analysis = df[df['station_id'].isin(wave_station_ids)].copy()\n",
    "\n",
    "buffer_complete = io.StringIO()\n",
    "df_complete_station.info(buf=buffer_complete)\n",
    "info_complete = buffer_complete.getvalue()\n",
    "\n",
    "buffer_wind = io.StringIO()\n",
    "df_wind_analysis.info(buf=buffer_wind)\n",
    "info_wind = buffer_wind.getvalue()\n",
    "\n",
    "buffer_wave = io.StringIO()\n",
    "df_wave_analysis.info(buf=buffer_wave)\n",
    "info_wave = buffer_wave.getvalue()\n",
    "\n",
    "html = f\"\"\"\n",
    "<div style=\"display: flex; width: 100%;\">\n",
    "  <div style=\"flex: 1; padding-right: 10px;\">\n",
    "    <h4 style=\"font-family: monospace;\">Complete Station Info:</h4>\n",
    "    <pre style='font-family: monospace; border-style: solid; border-width: thin; padding:10px;'>{info_complete}</pre>\n",
    "  </div>\n",
    "  <div style=\"flex: 1; padding-left: 5px; padding-right: 5px;\">\n",
    "    <h4 style=\"font-family: monospace;\">Wind Analysis Info:</h4>\n",
    "    <pre style='font-family: monospace; border-style: solid; border-width: thin; padding:10px;'>{info_wind}</pre>\n",
    "  </div>\n",
    "  <div style=\"flex: 1; padding-left: 10px;\">\n",
    "    <h4 style=\"font-family: monospace;\">Wave Analysis Info:</h4>\n",
    "    <pre style='font-family: monospace; border-style: solid; border-width: thin; padding:10px;'>{info_wave}</pre>\n",
    "  </div>\n",
    "</div>\n",
    "\"\"\"\n",
    "\n",
    "display(HTML(html))"
   ]
  },
  {
   "cell_type": "markdown",
   "metadata": {},
   "source": [
    "## 5. Handle Incidental Missing Data with Time-Series Interpolation"
   ]
  },
  {
   "cell_type": "markdown",
   "metadata": {},
   "source": [
    "After partitioning, the remaining missing values are incidental. For this type of temporal data, time-based linear interpolation is the most appropriate method for filling small gaps. It estimates the missing value based on its chronological position between two known data points, which is more physically plausible than simply filling with the mean or median. To perform this, the `date_time` column is set as the DataFrame index and sorted. Interpolation is then applied. Any remaining NaN values after interpolation (typically at the very beginning or end of a data series) are dropped."
   ]
  },
  {
   "cell_type": "code",
   "execution_count": 7,
   "metadata": {},
   "outputs": [
    {
     "data": {
      "text/html": [
       "\n",
       "<div style=\"display: flex; width: 100%;\">\n",
       "\n",
       "  <!-- Left Column: Displays the 'before' state -->\n",
       "  <div style=\"flex: 1; padding-right: 10px;\">\n",
       "    <h4 style=\"font-family: monospace;\">Missing values BEFORE interpolation:</h4>\n",
       "    <pre style='font-family: monospace; border-style: solid; border-width: thin; padding:10px;'>station_id                         0\n",
       "latitude_degrees_north             0\n",
       "longitude_degrees_east             0\n",
       "air_temperature_celsius            0\n",
       "sea_level_pressure_hpa             0\n",
       "gust_speed_mps                     0\n",
       "significant_wave_height_m          1\n",
       "dominant_wave_period_s             1\n",
       "sea_surface_temperature_celsius    0\n",
       "wind_speed                         0</pre>\n",
       "  </div>\n",
       "\n",
       "  <!-- Right Column: Displays the 'after' state -->\n",
       "  <div style=\"flex: 1; padding-left: 10px;\">\n",
       "    <h4 style=\"font-family: monospace;\">Missing values AFTER interpolation:</h4>\n",
       "    <pre style='font-family: monospace; border-style: solid; border-width: thin; padding:10px;'>station_id                         0\n",
       "latitude_degrees_north             0\n",
       "longitude_degrees_east             0\n",
       "air_temperature_celsius            0\n",
       "sea_level_pressure_hpa             0\n",
       "gust_speed_mps                     0\n",
       "significant_wave_height_m          0\n",
       "dominant_wave_period_s             0\n",
       "sea_surface_temperature_celsius    0\n",
       "wind_speed                         0</pre>\n",
       "  </div>\n",
       "\n",
       "</div>\n"
      ],
      "text/plain": [
       "<IPython.core.display.HTML object>"
      ]
     },
     "metadata": {},
     "output_type": "display_data"
    }
   ],
   "source": [
    "df_complete_station.set_index('date_time', inplace=True)\n",
    "df_complete_station.sort_index(inplace=True)\n",
    "\n",
    "missing_before_str = df_complete_station.isnull().sum().to_string()\n",
    "\n",
    "df_complete_station.interpolate(method='time', inplace=True)\n",
    "missing_after_str = df_complete_station.isnull().sum().to_string()\n",
    "\n",
    "html = f\"\"\"\n",
    "<div style=\"display: flex; width: 100%;\">\n",
    "\n",
    "  <!-- Left Column: Displays the 'before' state -->\n",
    "  <div style=\"flex: 1; padding-right: 10px;\">\n",
    "    <h4 style=\"font-family: monospace;\">Missing values BEFORE interpolation:</h4>\n",
    "    <pre style='font-family: monospace; border-style: solid; border-width: thin; padding:10px;'>{missing_before_str}</pre>\n",
    "  </div>\n",
    "  \n",
    "  <!-- Right Column: Displays the 'after' state -->\n",
    "  <div style=\"flex: 1; padding-left: 10px;\">\n",
    "    <h4 style=\"font-family: monospace;\">Missing values AFTER interpolation:</h4>\n",
    "    <pre style='font-family: monospace; border-style: solid; border-width: thin; padding:10px;'>{missing_after_str}</pre>\n",
    "  </div>\n",
    "  \n",
    "</div>\n",
    "\"\"\"\n",
    "\n",
    "display(HTML(html))"
   ]
  },
  {
   "cell_type": "code",
   "execution_count": 8,
   "metadata": {},
   "outputs": [
    {
     "data": {
      "text/html": [
       "\n",
       "<div style=\"display: flex; width: 100%;\">\n",
       "\n",
       "  <!-- Left Column: Displays the 'before' state -->\n",
       "  <div style=\"flex: 1; padding-right: 10px;\">\n",
       "    <h4 style=\"font-family: monospace;\">Missing values BEFORE interpolation:</h4>\n",
       "    <pre style='font-family: monospace; border-style: solid; border-width: thin; padding:10px;'>station_id                            0\n",
       "latitude_degrees_north                0\n",
       "longitude_degrees_east                0\n",
       "air_temperature_celsius            1445\n",
       "sea_level_pressure_hpa             1445\n",
       "gust_speed_mps                     1445\n",
       "significant_wave_height_m             1\n",
       "dominant_wave_period_s                1\n",
       "sea_surface_temperature_celsius       0\n",
       "wind_speed                         1445</pre>\n",
       "  </div>\n",
       "\n",
       "  <!-- Right Column: Displays the 'after' state -->\n",
       "  <div style=\"flex: 1; padding-left: 10px;\">\n",
       "    <h4 style=\"font-family: monospace;\">Missing values AFTER interpolation:</h4>\n",
       "    <pre style='font-family: monospace; border-style: solid; border-width: thin; padding:10px;'>station_id                         0\n",
       "latitude_degrees_north             0\n",
       "longitude_degrees_east             0\n",
       "air_temperature_celsius            2\n",
       "sea_level_pressure_hpa             2\n",
       "gust_speed_mps                     2\n",
       "significant_wave_height_m          0\n",
       "dominant_wave_period_s             0\n",
       "sea_surface_temperature_celsius    0\n",
       "wind_speed                         2</pre>\n",
       "  </div>\n",
       "\n",
       "</div>\n"
      ],
      "text/plain": [
       "<IPython.core.display.HTML object>"
      ]
     },
     "metadata": {},
     "output_type": "display_data"
    }
   ],
   "source": [
    "df_wave_analysis.set_index('date_time', inplace=True)\n",
    "df_wave_analysis.sort_index(inplace=True)\n",
    "\n",
    "missing_before_str = df_wave_analysis.isnull().sum().to_string()\n",
    "\n",
    "df_wave_analysis.interpolate(method='time', inplace=True)\n",
    "missing_after_str = df_wave_analysis.isnull().sum().to_string()\n",
    "\n",
    "html = f\"\"\"\n",
    "<div style=\"display: flex; width: 100%;\">\n",
    "\n",
    "  <!-- Left Column: Displays the 'before' state -->\n",
    "  <div style=\"flex: 1; padding-right: 10px;\">\n",
    "    <h4 style=\"font-family: monospace;\">Missing values BEFORE interpolation:</h4>\n",
    "    <pre style='font-family: monospace; border-style: solid; border-width: thin; padding:10px;'>{missing_before_str}</pre>\n",
    "  </div>\n",
    "  \n",
    "  <!-- Right Column: Displays the 'after' state -->\n",
    "  <div style=\"flex: 1; padding-left: 10px;\">\n",
    "    <h4 style=\"font-family: monospace;\">Missing values AFTER interpolation:</h4>\n",
    "    <pre style='font-family: monospace; border-style: solid; border-width: thin; padding:10px;'>{missing_after_str}</pre>\n",
    "  </div>\n",
    "  \n",
    "</div>\n",
    "\"\"\"\n",
    "\n",
    "display(HTML(html))"
   ]
  },
  {
   "cell_type": "code",
   "execution_count": 9,
   "metadata": {},
   "outputs": [
    {
     "name": "stdout",
     "output_type": "stream",
     "text": [
      "Shape before dropping final NaNs: (2168, 10)\n",
      "Shape after dropping final NaNs:  (2166, 10)\n"
     ]
    }
   ],
   "source": [
    "print(f\"Shape before dropping final NaNs: {df_wave_analysis.shape}\")\n",
    "df_wave_analysis.dropna(inplace=True)\n",
    "print(f\"Shape after dropping final NaNs:  {df_wave_analysis.shape}\")"
   ]
  },
  {
   "cell_type": "code",
   "execution_count": 10,
   "metadata": {},
   "outputs": [
    {
     "data": {
      "text/html": [
       "\n",
       "<div style=\"display: flex; width: 100%;\">\n",
       "\n",
       "  <!-- Left Column: Displays the 'before' state -->\n",
       "  <div style=\"flex: 1; padding-right: 10px;\">\n",
       "    <h4 style=\"font-family: monospace;\">Missing values BEFORE interpolation:</h4>\n",
       "    <pre style='font-family: monospace; border-style: solid; border-width: thin; padding:10px;'>station_id                            0\n",
       "latitude_degrees_north                0\n",
       "longitude_degrees_east                0\n",
       "air_temperature_celsius            5051\n",
       "sea_level_pressure_hpa             5051\n",
       "gust_speed_mps                     5051\n",
       "significant_wave_height_m          5052\n",
       "dominant_wave_period_s             5052\n",
       "sea_surface_temperature_celsius    5051\n",
       "wind_speed                          731</pre>\n",
       "  </div>\n",
       "\n",
       "  <!-- Right Column: Displays the 'after' state -->\n",
       "  <div style=\"flex: 1; padding-left: 10px;\">\n",
       "    <h4 style=\"font-family: monospace;\">Missing values AFTER interpolation:</h4>\n",
       "    <pre style='font-family: monospace; border-style: solid; border-width: thin; padding:10px;'>station_id                         0\n",
       "latitude_degrees_north             0\n",
       "longitude_degrees_east             0\n",
       "air_temperature_celsius            7\n",
       "sea_level_pressure_hpa             7\n",
       "gust_speed_mps                     7\n",
       "significant_wave_height_m          7\n",
       "dominant_wave_period_s             7\n",
       "sea_surface_temperature_celsius    7\n",
       "wind_speed                         0</pre>\n",
       "  </div>\n",
       "\n",
       "</div>\n"
      ],
      "text/plain": [
       "<IPython.core.display.HTML object>"
      ]
     },
     "metadata": {},
     "output_type": "display_data"
    }
   ],
   "source": [
    "df_wind_analysis.set_index('date_time', inplace=True)\n",
    "df_wind_analysis.sort_index(inplace=True)\n",
    "\n",
    "missing_before_str = df_wind_analysis.isnull().sum().to_string()\n",
    "\n",
    "df_wind_analysis.interpolate(method='time', inplace=True)\n",
    "missing_after_str = df_wind_analysis.isnull().sum().to_string()\n",
    "\n",
    "html = f\"\"\"\n",
    "<div style=\"display: flex; width: 100%;\">\n",
    "\n",
    "  <!-- Left Column: Displays the 'before' state -->\n",
    "  <div style=\"flex: 1; padding-right: 10px;\">\n",
    "    <h4 style=\"font-family: monospace;\">Missing values BEFORE interpolation:</h4>\n",
    "    <pre style='font-family: monospace; border-style: solid; border-width: thin; padding:10px;'>{missing_before_str}</pre>\n",
    "  </div>\n",
    "  \n",
    "  <!-- Right Column: Displays the 'after' state -->\n",
    "  <div style=\"flex: 1; padding-left: 10px;\">\n",
    "    <h4 style=\"font-family: monospace;\">Missing values AFTER interpolation:</h4>\n",
    "    <pre style='font-family: monospace; border-style: solid; border-width: thin; padding:10px;'>{missing_after_str}</pre>\n",
    "  </div>\n",
    "  \n",
    "</div>\n",
    "\"\"\"\n",
    "\n",
    "display(HTML(html))"
   ]
  },
  {
   "cell_type": "code",
   "execution_count": 11,
   "metadata": {},
   "outputs": [
    {
     "name": "stdout",
     "output_type": "stream",
     "text": [
      "Shape before dropping final NaNs: (5774, 10)\n",
      "Shape after dropping final NaNs:  (5767, 10)\n"
     ]
    }
   ],
   "source": [
    "print(f\"Shape before dropping final NaNs: {df_wind_analysis.shape}\")\n",
    "df_wind_analysis.dropna(inplace=True)\n",
    "print(f\"Shape after dropping final NaNs:  {df_wind_analysis.shape}\")"
   ]
  },
  {
   "cell_type": "markdown",
   "metadata": {},
   "source": [
    "## 6. Save Cleaned Data"
   ]
  },
  {
   "cell_type": "code",
   "execution_count": 12,
   "metadata": {},
   "outputs": [
    {
     "data": {
      "text/html": [
       "\n",
       "<div style=\"display: flex; width: 100%;\">\n",
       "  <div style=\"flex: 1; padding-right: 10px;\">\n",
       "    <h4 style=\"font-family: monospace;\">Complete Station Info:</h4>\n",
       "    <pre style='font-family: monospace; border-style: solid; border-width: thin; padding:10px;'><class 'pandas.core.frame.DataFrame'>\n",
       "DatetimeIndex: 723 entries, 2013-04-18 00:50:00+00:00 to 2013-05-18 10:50:00+00:00\n",
       "Data columns (total 10 columns):\n",
       " #   Column                           Non-Null Count  Dtype  \n",
       "---  ------                           --------------  -----  \n",
       " 0   station_id                       723 non-null    int64  \n",
       " 1   latitude_degrees_north           723 non-null    float64\n",
       " 2   longitude_degrees_east           723 non-null    float64\n",
       " 3   air_temperature_celsius          723 non-null    float64\n",
       " 4   sea_level_pressure_hpa           723 non-null    float64\n",
       " 5   gust_speed_mps                   723 non-null    float64\n",
       " 6   significant_wave_height_m        723 non-null    float64\n",
       " 7   dominant_wave_period_s           723 non-null    float64\n",
       " 8   sea_surface_temperature_celsius  723 non-null    float64\n",
       " 9   wind_speed                       723 non-null    float64\n",
       "dtypes: float64(9), int64(1)\n",
       "memory usage: 62.1 KB\n",
       "</pre>\n",
       "  </div>\n",
       "  <div style=\"flex: 1; padding-left: 5px; padding-right: 5px;\">\n",
       "    <h4 style=\"font-family: monospace;\">Wind Analysis Info:</h4>\n",
       "    <pre style='font-family: monospace; border-style: solid; border-width: thin; padding:10px;'><class 'pandas.core.frame.DataFrame'>\n",
       "DatetimeIndex: 5767 entries, 2013-04-18 00:50:00+00:00 to 2013-05-18 10:50:00+00:00\n",
       "Data columns (total 10 columns):\n",
       " #   Column                           Non-Null Count  Dtype  \n",
       "---  ------                           --------------  -----  \n",
       " 0   station_id                       5767 non-null   int64  \n",
       " 1   latitude_degrees_north           5767 non-null   float64\n",
       " 2   longitude_degrees_east           5767 non-null   float64\n",
       " 3   air_temperature_celsius          5767 non-null   float64\n",
       " 4   sea_level_pressure_hpa           5767 non-null   float64\n",
       " 5   gust_speed_mps                   5767 non-null   float64\n",
       " 6   significant_wave_height_m        5767 non-null   float64\n",
       " 7   dominant_wave_period_s           5767 non-null   float64\n",
       " 8   sea_surface_temperature_celsius  5767 non-null   float64\n",
       " 9   wind_speed                       5767 non-null   float64\n",
       "dtypes: float64(9), int64(1)\n",
       "memory usage: 495.6 KB\n",
       "</pre>\n",
       "  </div>\n",
       "  <div style=\"flex: 1; padding-left: 10px;\">\n",
       "    <h4 style=\"font-family: monospace;\">Wave Analysis Info:</h4>\n",
       "    <pre style='font-family: monospace; border-style: solid; border-width: thin; padding:10px;'><class 'pandas.core.frame.DataFrame'>\n",
       "DatetimeIndex: 2166 entries, 2013-04-18 00:50:00+00:00 to 2013-05-18 10:50:00+00:00\n",
       "Data columns (total 10 columns):\n",
       " #   Column                           Non-Null Count  Dtype  \n",
       "---  ------                           --------------  -----  \n",
       " 0   station_id                       2166 non-null   int64  \n",
       " 1   latitude_degrees_north           2166 non-null   float64\n",
       " 2   longitude_degrees_east           2166 non-null   float64\n",
       " 3   air_temperature_celsius          2166 non-null   float64\n",
       " 4   sea_level_pressure_hpa           2166 non-null   float64\n",
       " 5   gust_speed_mps                   2166 non-null   float64\n",
       " 6   significant_wave_height_m        2166 non-null   float64\n",
       " 7   dominant_wave_period_s           2166 non-null   float64\n",
       " 8   sea_surface_temperature_celsius  2166 non-null   float64\n",
       " 9   wind_speed                       2166 non-null   float64\n",
       "dtypes: float64(9), int64(1)\n",
       "memory usage: 186.1 KB\n",
       "</pre>\n",
       "  </div>\n",
       "</div>\n"
      ],
      "text/plain": [
       "<IPython.core.display.HTML object>"
      ]
     },
     "metadata": {},
     "output_type": "display_data"
    }
   ],
   "source": [
    "buffer_complete = io.StringIO()\n",
    "df_complete_station.info(buf=buffer_complete)\n",
    "info_complete = buffer_complete.getvalue()\n",
    "\n",
    "buffer_wind = io.StringIO()\n",
    "df_wind_analysis.info(buf=buffer_wind)\n",
    "info_wind = buffer_wind.getvalue()\n",
    "\n",
    "buffer_wave = io.StringIO()\n",
    "df_wave_analysis.info(buf=buffer_wave)\n",
    "info_wave = buffer_wave.getvalue()\n",
    "\n",
    "html = f\"\"\"\n",
    "<div style=\"display: flex; width: 100%;\">\n",
    "  <div style=\"flex: 1; padding-right: 10px;\">\n",
    "    <h4 style=\"font-family: monospace;\">Complete Station Info:</h4>\n",
    "    <pre style='font-family: monospace; border-style: solid; border-width: thin; padding:10px;'>{info_complete}</pre>\n",
    "  </div>\n",
    "  <div style=\"flex: 1; padding-left: 5px; padding-right: 5px;\">\n",
    "    <h4 style=\"font-family: monospace;\">Wind Analysis Info:</h4>\n",
    "    <pre style='font-family: monospace; border-style: solid; border-width: thin; padding:10px;'>{info_wind}</pre>\n",
    "  </div>\n",
    "  <div style=\"flex: 1; padding-left: 10px;\">\n",
    "    <h4 style=\"font-family: monospace;\">Wave Analysis Info:</h4>\n",
    "    <pre style='font-family: monospace; border-style: solid; border-width: thin; padding:10px;'>{info_wave}</pre>\n",
    "  </div>\n",
    "</div>\n",
    "\"\"\"\n",
    "\n",
    "display(HTML(html))"
   ]
  },
  {
   "cell_type": "markdown",
   "metadata": {},
   "source": [
    "> Over the course of a 30‑day month, the first buoy’s dataset contains about 720 observations—implying it records a measurement roughly every hour. In contrast, the second buoy captures around 5,760 readings in the same period, indicating a sampling interval of approximately 7.5 minutes. The third buoy falls in between, with about 2,160 data points per month, which works out to one measurement every 20 minutes."
   ]
  }
 ],
 "metadata": {
  "kernelspec": {
   "display_name": "noaa-dataset-project",
   "language": "python",
   "name": "python3"
  },
  "language_info": {
   "codemirror_mode": {
    "name": "ipython",
    "version": 3
   },
   "file_extension": ".py",
   "mimetype": "text/x-python",
   "name": "python",
   "nbconvert_exporter": "python",
   "pygments_lexer": "ipython3",
   "version": "3.12.11"
  }
 },
 "nbformat": 4,
 "nbformat_minor": 4
}
